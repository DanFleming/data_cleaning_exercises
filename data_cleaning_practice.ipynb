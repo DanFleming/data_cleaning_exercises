{
 "cells": [
  {
   "cell_type": "markdown",
   "id": "6db329a0-d2d9-413e-b8e4-3f732d1c6366",
   "metadata": {},
   "source": [
    "**Setting up simple data frame**"
   ]
  },
  {
   "cell_type": "code",
   "execution_count": 59,
   "id": "bc6ffd44-fcda-462c-a2f1-7c6c1ce84692",
   "metadata": {},
   "outputs": [
    {
     "data": {
      "text/html": [
       "<div>\n",
       "<style scoped>\n",
       "    .dataframe tbody tr th:only-of-type {\n",
       "        vertical-align: middle;\n",
       "    }\n",
       "\n",
       "    .dataframe tbody tr th {\n",
       "        vertical-align: top;\n",
       "    }\n",
       "\n",
       "    .dataframe thead th {\n",
       "        text-align: right;\n",
       "    }\n",
       "</style>\n",
       "<table border=\"1\" class=\"dataframe\">\n",
       "  <thead>\n",
       "    <tr style=\"text-align: right;\">\n",
       "      <th></th>\n",
       "      <th>TransactionID</th>\n",
       "      <th>CustomerName</th>\n",
       "      <th>Product</th>\n",
       "      <th>Price</th>\n",
       "      <th>Quantity</th>\n",
       "      <th>DateOfService</th>\n",
       "    </tr>\n",
       "  </thead>\n",
       "  <tbody>\n",
       "    <tr>\n",
       "      <th>0</th>\n",
       "      <td>101</td>\n",
       "      <td>Dick Dastardly</td>\n",
       "      <td>Differential</td>\n",
       "      <td>1500</td>\n",
       "      <td>1.0</td>\n",
       "      <td>2024-12-01</td>\n",
       "    </tr>\n",
       "    <tr>\n",
       "      <th>1</th>\n",
       "      <td>102</td>\n",
       "      <td>Penelope Pitstop</td>\n",
       "      <td>Exhaust Pipe</td>\n",
       "      <td>600</td>\n",
       "      <td>1.0</td>\n",
       "      <td>2024-12-01</td>\n",
       "    </tr>\n",
       "    <tr>\n",
       "      <th>2</th>\n",
       "      <td>103</td>\n",
       "      <td>Huckleberry Hound</td>\n",
       "      <td>Carburettor</td>\n",
       "      <td>1200</td>\n",
       "      <td>NaN</td>\n",
       "      <td>01-12-2024</td>\n",
       "    </tr>\n",
       "    <tr>\n",
       "      <th>3</th>\n",
       "      <td>104</td>\n",
       "      <td>Fred Flintstone</td>\n",
       "      <td>Spark Plug</td>\n",
       "      <td>-20</td>\n",
       "      <td>4.0</td>\n",
       "      <td>None</td>\n",
       "    </tr>\n",
       "    <tr>\n",
       "      <th>4</th>\n",
       "      <td>105</td>\n",
       "      <td>velma Dinkley</td>\n",
       "      <td>Brake Pad</td>\n",
       "      <td>40</td>\n",
       "      <td>2.0</td>\n",
       "      <td>2024-12-01</td>\n",
       "    </tr>\n",
       "    <tr>\n",
       "      <th>5</th>\n",
       "      <td>106</td>\n",
       "      <td>Penelope Pitstop</td>\n",
       "      <td>Exhaust Pipe</td>\n",
       "      <td>600</td>\n",
       "      <td>NaN</td>\n",
       "      <td>None</td>\n",
       "    </tr>\n",
       "  </tbody>\n",
       "</table>\n",
       "</div>"
      ],
      "text/plain": [
       "   TransactionID       CustomerName       Product  Price  Quantity  \\\n",
       "0            101     Dick Dastardly  Differential   1500       1.0   \n",
       "1            102   Penelope Pitstop  Exhaust Pipe    600       1.0   \n",
       "2            103  Huckleberry Hound   Carburettor   1200       NaN   \n",
       "3            104    Fred Flintstone    Spark Plug    -20       4.0   \n",
       "4            105      velma Dinkley     Brake Pad     40       2.0   \n",
       "5            106   Penelope Pitstop  Exhaust Pipe    600       NaN   \n",
       "\n",
       "  DateOfService  \n",
       "0    2024-12-01  \n",
       "1    2024-12-01  \n",
       "2    01-12-2024  \n",
       "3          None  \n",
       "4    2024-12-01  \n",
       "5          None  "
      ]
     },
     "metadata": {},
     "output_type": "display_data"
    }
   ],
   "source": [
    "import pandas as pd\n",
    "import numpy as np\n",
    "\n",
    "data = {\n",
    "    \"TransactionID\": [101, 102, 103, 104, 105, 106],\n",
    "    \"CustomerName\": [\"Dick Dastardly\", \"Penelope Pitstop\", \"Huckleberry Hound\",\n",
    "                     \"Fred Flintstone\", \"velma Dinkley\", \"Penelope Pitstop\"],\n",
    "    \"Product\": [\"Differential\", \"Exhaust Pipe\", \"Carburettor\", \"Spark Plug\", \"Brake Pad\", \"Exhaust Pipe\"],\n",
    "    \"Price\": [1500, 600, 1200, -20, 40, 600],\n",
    "    \"Quantity\": [1, 1, None, 4, 2, None],\n",
    "    \"DateOfService\": [\"2024-12-01\", \"2024-12-01\", \"01-12-2024\", None, \"2024-12-01\", None],\n",
    "}\n",
    "\n",
    "df = pd.DataFrame(data)\n",
    "\n",
    "display(df)"
   ]
  },
  {
   "cell_type": "code",
   "execution_count": 60,
   "id": "0d5d0280-ba2b-4d3b-8693-627206222680",
   "metadata": {},
   "outputs": [
    {
     "name": "stdout",
     "output_type": "stream",
     "text": [
      "<class 'pandas.core.frame.DataFrame'>\n",
      "RangeIndex: 6 entries, 0 to 5\n",
      "Data columns (total 6 columns):\n",
      " #   Column         Non-Null Count  Dtype  \n",
      "---  ------         --------------  -----  \n",
      " 0   TransactionID  6 non-null      int64  \n",
      " 1   CustomerName   6 non-null      object \n",
      " 2   Product        6 non-null      object \n",
      " 3   Price          6 non-null      int64  \n",
      " 4   Quantity       4 non-null      float64\n",
      " 5   DateOfService  4 non-null      object \n",
      "dtypes: float64(1), int64(2), object(3)\n",
      "memory usage: 420.0+ bytes\n"
     ]
    }
   ],
   "source": [
    "df.info()\n"
   ]
  },
  {
   "cell_type": "markdown",
   "id": "c7ece463-156d-470f-80d4-7ff47e3fe546",
   "metadata": {},
   "source": [
    "**Handling missing values**"
   ]
  },
  {
   "cell_type": "code",
   "execution_count": 62,
   "id": "6eaa25d1-05b3-4b10-aff0-16dc07a3e104",
   "metadata": {},
   "outputs": [
    {
     "name": "stdout",
     "output_type": "stream",
     "text": [
      "Missing values =  TransactionID    0\n",
      "CustomerName     0\n",
      "Product          0\n",
      "Price            0\n",
      "Quantity         2\n",
      "DateOfService    2\n",
      "dtype: int64\n"
     ]
    }
   ],
   "source": [
    "missing_val = df.isnull().sum()\n",
    "print(\"Missing values = \", missing_val)"
   ]
  },
  {
   "cell_type": "markdown",
   "id": "03f105a1-92c8-4a12-9e94-af883c50b917",
   "metadata": {},
   "source": [
    "**Handling data types**"
   ]
  },
  {
   "cell_type": "code",
   "execution_count": 64,
   "id": "8fd92c65-f72d-45c9-b4fb-ee090c5129b2",
   "metadata": {},
   "outputs": [
    {
     "name": "stdout",
     "output_type": "stream",
     "text": [
      "Data types: TransactionID      int64\n",
      "CustomerName      object\n",
      "Product           object\n",
      "Price              int64\n",
      "Quantity         float64\n",
      "DateOfService     object\n",
      "dtype: object\n"
     ]
    }
   ],
   "source": [
    "print(\"Data types:\", df.dtypes)"
   ]
  },
  {
   "cell_type": "markdown",
   "id": "ba6cfa67-16ef-451e-a17f-61fc54860812",
   "metadata": {},
   "source": [
    "**Converting dates to consistent format**"
   ]
  },
  {
   "cell_type": "code",
   "execution_count": 66,
   "id": "953c38e4-9635-4919-b7e9-40d2a949fb31",
   "metadata": {},
   "outputs": [
    {
     "name": "stdout",
     "output_type": "stream",
     "text": [
      "0   2024-12-01\n",
      "1   2024-12-01\n",
      "2          NaT\n",
      "3          NaT\n",
      "4   2024-12-01\n",
      "5          NaT\n",
      "Name: DateOfService, dtype: datetime64[ns]\n"
     ]
    }
   ],
   "source": [
    "df[\"DateOfService\"] = pd.to_datetime(df[\"DateOfService\"], errors=\"coerce\")\n",
    "print(df[\"DateOfService\"])"
   ]
  },
  {
   "cell_type": "markdown",
   "id": "ff70bd22-bc26-4a7e-9c79-643bc8a43a2b",
   "metadata": {},
   "source": [
    "**Finding Outliers**"
   ]
  },
  {
   "cell_type": "code",
   "execution_count": 68,
   "id": "1284dba7-70b5-4310-8f65-7d5e1f269451",
   "metadata": {},
   "outputs": [
    {
     "data": {
      "text/plain": [
       "'Outliers:'"
      ]
     },
     "metadata": {},
     "output_type": "display_data"
    },
    {
     "data": {
      "text/html": [
       "<div>\n",
       "<style scoped>\n",
       "    .dataframe tbody tr th:only-of-type {\n",
       "        vertical-align: middle;\n",
       "    }\n",
       "\n",
       "    .dataframe tbody tr th {\n",
       "        vertical-align: top;\n",
       "    }\n",
       "\n",
       "    .dataframe thead th {\n",
       "        text-align: right;\n",
       "    }\n",
       "</style>\n",
       "<table border=\"1\" class=\"dataframe\">\n",
       "  <thead>\n",
       "    <tr style=\"text-align: right;\">\n",
       "      <th></th>\n",
       "      <th>TransactionID</th>\n",
       "      <th>CustomerName</th>\n",
       "      <th>Product</th>\n",
       "      <th>Price</th>\n",
       "      <th>Quantity</th>\n",
       "      <th>DateOfService</th>\n",
       "    </tr>\n",
       "  </thead>\n",
       "  <tbody>\n",
       "    <tr>\n",
       "      <th>3</th>\n",
       "      <td>104</td>\n",
       "      <td>Fred Flintstone</td>\n",
       "      <td>Spark Plug</td>\n",
       "      <td>-20</td>\n",
       "      <td>4.0</td>\n",
       "      <td>NaT</td>\n",
       "    </tr>\n",
       "  </tbody>\n",
       "</table>\n",
       "</div>"
      ],
      "text/plain": [
       "   TransactionID     CustomerName     Product  Price  Quantity DateOfService\n",
       "3            104  Fred Flintstone  Spark Plug    -20       4.0           NaT"
      ]
     },
     "metadata": {},
     "output_type": "display_data"
    }
   ],
   "source": [
    "outliers = df[df[\"Price\"] < 0]\n",
    "display(\"Outliers:\", outliers)"
   ]
  },
  {
   "cell_type": "code",
   "execution_count": 69,
   "id": "a24adf17-2432-4878-aa61-2827034022f7",
   "metadata": {},
   "outputs": [
    {
     "data": {
      "text/plain": [
       "'Duplicate records:'"
      ]
     },
     "metadata": {},
     "output_type": "display_data"
    },
    {
     "data": {
      "text/plain": [
       "0    False\n",
       "1     True\n",
       "2    False\n",
       "3    False\n",
       "4    False\n",
       "5     True\n",
       "dtype: bool"
      ]
     },
     "metadata": {},
     "output_type": "display_data"
    },
    {
     "data": {
      "text/plain": [
       "'Entries:'"
      ]
     },
     "metadata": {},
     "output_type": "display_data"
    },
    {
     "data": {
      "text/html": [
       "<div>\n",
       "<style scoped>\n",
       "    .dataframe tbody tr th:only-of-type {\n",
       "        vertical-align: middle;\n",
       "    }\n",
       "\n",
       "    .dataframe tbody tr th {\n",
       "        vertical-align: top;\n",
       "    }\n",
       "\n",
       "    .dataframe thead th {\n",
       "        text-align: right;\n",
       "    }\n",
       "</style>\n",
       "<table border=\"1\" class=\"dataframe\">\n",
       "  <thead>\n",
       "    <tr style=\"text-align: right;\">\n",
       "      <th></th>\n",
       "      <th>TransactionID</th>\n",
       "      <th>CustomerName</th>\n",
       "      <th>Product</th>\n",
       "      <th>Price</th>\n",
       "      <th>Quantity</th>\n",
       "      <th>DateOfService</th>\n",
       "    </tr>\n",
       "  </thead>\n",
       "  <tbody>\n",
       "    <tr>\n",
       "      <th>1</th>\n",
       "      <td>102</td>\n",
       "      <td>Penelope Pitstop</td>\n",
       "      <td>Exhaust Pipe</td>\n",
       "      <td>600</td>\n",
       "      <td>1.0</td>\n",
       "      <td>2024-12-01</td>\n",
       "    </tr>\n",
       "    <tr>\n",
       "      <th>5</th>\n",
       "      <td>106</td>\n",
       "      <td>Penelope Pitstop</td>\n",
       "      <td>Exhaust Pipe</td>\n",
       "      <td>600</td>\n",
       "      <td>NaN</td>\n",
       "      <td>NaT</td>\n",
       "    </tr>\n",
       "  </tbody>\n",
       "</table>\n",
       "</div>"
      ],
      "text/plain": [
       "   TransactionID      CustomerName       Product  Price  Quantity  \\\n",
       "1            102  Penelope Pitstop  Exhaust Pipe    600       1.0   \n",
       "5            106  Penelope Pitstop  Exhaust Pipe    600       NaN   \n",
       "\n",
       "  DateOfService  \n",
       "1    2024-12-01  \n",
       "5           NaT  "
      ]
     },
     "metadata": {},
     "output_type": "display_data"
    }
   ],
   "source": [
    "duplicates = df.duplicated(subset=[\"CustomerName\", \"Product\"], keep = False)\n",
    "display(\"Duplicate records:\", duplicates, \"Entries:\", df[duplicates])"
   ]
  },
  {
   "cell_type": "markdown",
   "id": "81f579b8-9f23-4827-b938-d1557538a4e7",
   "metadata": {},
   "source": [
    "**Standardizing text data in CustomerName column**"
   ]
  },
  {
   "cell_type": "code",
   "execution_count": 87,
   "id": "634c8b33-de7b-40b1-88ba-31c2bcf0c8d0",
   "metadata": {},
   "outputs": [
    {
     "name": "stdout",
     "output_type": "stream",
     "text": [
      "0       Dick Dastardly\n",
      "1     Penelope Pitstop\n",
      "2    Huckleberry Hound\n",
      "3      Fred Flintstone\n",
      "4        Velma Dinkley\n",
      "5     Penelope Pitstop\n",
      "Name: CustomerName, dtype: object\n"
     ]
    }
   ],
   "source": [
    "df[\"CustomerName\"] = df[\"CustomerName\"].str.strip().str.title()\n",
    "print(df[\"CustomerName\"])"
   ]
  },
  {
   "cell_type": "markdown",
   "id": "80eabac3-7c03-47f6-9718-2e26ca748489",
   "metadata": {},
   "source": [
    "**Validating sample permitted data range**"
   ]
  },
  {
   "cell_type": "code",
   "execution_count": 104,
   "id": "8de4a2cc-8476-4c75-9a04-03ea3d5b2724",
   "metadata": {},
   "outputs": [
    {
     "data": {
      "text/plain": [
       "'Prices outside permitted range:'"
      ]
     },
     "metadata": {},
     "output_type": "display_data"
    },
    {
     "data": {
      "text/html": [
       "<div>\n",
       "<style scoped>\n",
       "    .dataframe tbody tr th:only-of-type {\n",
       "        vertical-align: middle;\n",
       "    }\n",
       "\n",
       "    .dataframe tbody tr th {\n",
       "        vertical-align: top;\n",
       "    }\n",
       "\n",
       "    .dataframe thead th {\n",
       "        text-align: right;\n",
       "    }\n",
       "</style>\n",
       "<table border=\"1\" class=\"dataframe\">\n",
       "  <thead>\n",
       "    <tr style=\"text-align: right;\">\n",
       "      <th></th>\n",
       "      <th>TransactionID</th>\n",
       "      <th>CustomerName</th>\n",
       "      <th>Product</th>\n",
       "      <th>Price</th>\n",
       "      <th>Quantity</th>\n",
       "      <th>DateOfService</th>\n",
       "    </tr>\n",
       "  </thead>\n",
       "  <tbody>\n",
       "    <tr>\n",
       "      <th>0</th>\n",
       "      <td>101</td>\n",
       "      <td>Dick Dastardly</td>\n",
       "      <td>Differential</td>\n",
       "      <td>1500</td>\n",
       "      <td>1.0</td>\n",
       "      <td>2024-12-01</td>\n",
       "    </tr>\n",
       "    <tr>\n",
       "      <th>3</th>\n",
       "      <td>104</td>\n",
       "      <td>Fred Flintstone</td>\n",
       "      <td>Spark Plug</td>\n",
       "      <td>-20</td>\n",
       "      <td>4.0</td>\n",
       "      <td>NaT</td>\n",
       "    </tr>\n",
       "  </tbody>\n",
       "</table>\n",
       "</div>"
      ],
      "text/plain": [
       "   TransactionID     CustomerName       Product  Price  Quantity DateOfService\n",
       "0            101   Dick Dastardly  Differential   1500       1.0    2024-12-01\n",
       "3            104  Fred Flintstone    Spark Plug    -20       4.0           NaT"
      ]
     },
     "metadata": {},
     "output_type": "display_data"
    }
   ],
   "source": [
    "invalid_prices = df[~df[\"Price\"].between(0, 1200)]\n",
    "display(\"Prices outside permitted range:\", invalid_prices)"
   ]
  },
  {
   "cell_type": "markdown",
   "id": "8535fa68-710e-4b8f-94b8-ff79db643590",
   "metadata": {},
   "source": [
    "**Counting unique products**"
   ]
  },
  {
   "cell_type": "code",
   "execution_count": 107,
   "id": "9e6c10d1-e795-4e07-a979-4d43583577f5",
   "metadata": {},
   "outputs": [
    {
     "data": {
      "text/plain": [
       "'Unique Products'"
      ]
     },
     "metadata": {},
     "output_type": "display_data"
    },
    {
     "data": {
      "text/plain": [
       "Product\n",
       "Exhaust Pipe    2\n",
       "Differential    1\n",
       "Carburettor     1\n",
       "Spark Plug      1\n",
       "Brake Pad       1\n",
       "Name: count, dtype: int64"
      ]
     },
     "metadata": {},
     "output_type": "display_data"
    }
   ],
   "source": [
    "unique_products = df[\"Product\"].value_counts()\n",
    "display(\"Unique Products\", unique_products)"
   ]
  },
  {
   "cell_type": "markdown",
   "id": "39e03609-af8d-43df-beaf-49239ecbfb25",
   "metadata": {},
   "source": [
    "**Check inconsistent formatting (example: CustomerName column)**"
   ]
  },
  {
   "cell_type": "code",
   "execution_count": 114,
   "id": "7b0b8521-311d-49b5-85f3-c89327dcd6f9",
   "metadata": {},
   "outputs": [
    {
     "name": "stdout",
     "output_type": "stream",
     "text": [
      "Names with inconsistent format: Empty DataFrame\n",
      "Columns: [TransactionID, CustomerName, Product, Price, Quantity, DateOfService]\n",
      "Index: []\n"
     ]
    }
   ],
   "source": [
    "inconsistent_names = df[\"CustomerName\"].str.contains(r\"[A-Z]{2,}\", na = False)\n",
    "print(\"Names with inconsistent format:\", df[inconsistent_names])"
   ]
  },
  {
   "cell_type": "markdown",
   "id": "e5c76127-362b-422f-886d-49a1ba262ad8",
   "metadata": {},
   "source": [
    "*No inconsistent names found because they have been reformatted previously*"
   ]
  },
  {
   "cell_type": "markdown",
   "id": "3b122186-1af2-4cdb-81ed-35183ae6e7f7",
   "metadata": {},
   "source": [
    "**Identifying rows with multiple issues**"
   ]
  },
  {
   "cell_type": "code",
   "execution_count": 126,
   "id": "ad8419b8-93f8-4882-8741-4115266a2434",
   "metadata": {},
   "outputs": [
    {
     "name": "stdout",
     "output_type": "stream",
     "text": [
      "Rows with multiple issues:    TransactionID       CustomerName       Product  Price  Quantity  \\\n",
      "2            103  Huckleberry Hound   Carburettor   1200       NaN   \n",
      "3            104    Fred Flintstone    Spark Plug    -20       4.0   \n",
      "5            106   Penelope Pitstop  Exhaust Pipe    600       NaN   \n",
      "\n",
      "  DateOfService  \n",
      "2           NaT  \n",
      "3           NaT  \n",
      "5           NaT  \n"
     ]
    }
   ],
   "source": [
    "issues = df.isnull().sum(axis=1) + ((df[\"Price\"] < 0) | (df[\"Price\"] > 1200) + (~df[\"DateOfService\"].notnull()))\n",
    "problem_rows = df[issues > 1]\n",
    "print(\"Rows with multiple issues:\", problem_rows)"
   ]
  },
  {
   "cell_type": "code",
   "execution_count": null,
   "id": "7d197b1c-00ea-401d-88a0-2cdbb2291c9e",
   "metadata": {},
   "outputs": [],
   "source": []
  }
 ],
 "metadata": {
  "kernelspec": {
   "display_name": "Python 3 (ipykernel)",
   "language": "python",
   "name": "python3"
  },
  "language_info": {
   "codemirror_mode": {
    "name": "ipython",
    "version": 3
   },
   "file_extension": ".py",
   "mimetype": "text/x-python",
   "name": "python",
   "nbconvert_exporter": "python",
   "pygments_lexer": "ipython3",
   "version": "3.12.4"
  }
 },
 "nbformat": 4,
 "nbformat_minor": 5
}
